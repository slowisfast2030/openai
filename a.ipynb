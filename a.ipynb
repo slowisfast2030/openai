{
 "cells": [
  {
   "cell_type": "code",
   "execution_count": 2,
   "metadata": {},
   "outputs": [
    {
     "data": {
      "text/plain": [
       "[1, 2, 3, 4, 5, 6, 7, 8]"
      ]
     },
     "execution_count": 2,
     "metadata": {},
     "output_type": "execute_result"
    }
   ],
   "source": [
    "def quick_sort(arr):\n",
    "    if len(arr) <= 1:\n",
    "        return arr\n",
    "    else:\n",
    "        pivot = arr[0]\n",
    "        left = []\n",
    "        right = []\n",
    "        for i in range(1, len(arr)):\n",
    "            if arr[i] < pivot:\n",
    "                left.append(arr[i])\n",
    "            else:\n",
    "                right.append(arr[i])\n",
    "        return quick_sort(left) + [pivot] + quick_sort(right)\n",
    "    \n",
    "arr = [4, 6, 2, 8, 5, 1, 3, 7]\n",
    "quick_sort(arr)\n"
   ]
  },
  {
   "cell_type": "code",
   "execution_count": null,
   "metadata": {},
   "outputs": [],
   "source": [
    "# 写一段快排代码\n",
    "def quick_sort(arr):\n",
    "    if len(arr) <= 1:\n",
    "        return arr\n",
    "    else:\n",
    "        pivot = arr[0]\n",
    "        left = []\n",
    "        right = []\n",
    "        for i in range(1, len(arr)):\n",
    "            if arr[i] < pivot:\n",
    "                left.append(arr[i])\n",
    "            else:\n",
    "                right.append(arr[i])\n",
    "        return quick_sort(left) + [pivot] + quick_sort(right)\n",
    "    \n",
    "\n",
    "# 写一段测试代码\n",
    "arr = [4, 6, 2, 8, 5, 1, 3, 7]\n",
    "quick_sort(arr)\n",
    "\n",
    "\n",
    "\n",
    "\n",
    "\n"
   ]
  },
  {
   "cell_type": "code",
   "execution_count": null,
   "metadata": {},
   "outputs": [],
   "source": [
    "# 写一个函数，输入一个整数，输出这个整数的二进制表示中1的个数\n",
    "def count_1(num):\n",
    "    count = 0\n",
    "    while num:\n",
    "        count += 1\n",
    "        num = num & (num - 1)\n",
    "    return count\n",
    "\n",
    "\n",
    "# 写一段测试代码\n",
    "count_1(7)\n"
   ]
  },
  {
   "cell_type": "code",
   "execution_count": 1,
   "metadata": {},
   "outputs": [],
   "source": [
    "#  create a list of 100 numbers\n",
    "arr = [i for i in range(100)]\n",
    "\n",
    "# create a list of 100 numbers, but only the even numbers\n",
    "arr = [i for i in range(100) if i % 2 == 0]\n",
    "\n",
    "def get_even_numbers(arr):\n",
    "    return [i for i in arr if i % 2 == 0]\n",
    "\n",
    "def get_odd_numbers(arr):\n",
    "    return [i for i in arr if i % 2 == 1]\n",
    "\n",
    "even_numbers = get_even_numbers(arr)\n",
    "odd_numbers = get_odd_numbers(arr)\n",
    "\n",
    "\n",
    "\n"
   ]
  },
  {
   "cell_type": "code",
   "execution_count": null,
   "metadata": {},
   "outputs": [],
   "source": [
    "class Person:\n",
    "    def __init__(self, name, age):\n",
    "        self.name = name\n",
    "        self.age = age\n",
    "\n",
    "    def get_name(self):\n",
    "        return self.name\n",
    "\n",
    "    def get_age(self):\n",
    "        return self.age\n",
    "\n",
    "    def set_name(self, name):\n",
    "        self.name = name\n",
    "\n",
    "    def set_age(self, age):\n",
    "        self.age = age\n",
    "\n",
    "    def __str__(self):\n",
    "        return \"name: {}, age: {}\".format(self.name, self.age)\n",
    "    \n",
    "    def __repr__(self):\n",
    "        return \"name: {}, age: {}\".format(self.name, self.age)\n",
    "\n",
    "# a list of 10 persons\n",
    "persons = [Person(\"person_{}\".format(i), i) for i in range(10)]\n"
   ]
  },
  {
   "cell_type": "code",
   "execution_count": 1,
   "metadata": {},
   "outputs": [
    {
     "data": {
      "text/plain": [
       "1994"
      ]
     },
     "execution_count": 1,
     "metadata": {},
     "output_type": "execute_result"
    }
   ],
   "source": [
    "def roman_to_int(s):\n",
    "    roman_dict = {\n",
    "        \"I\": 1,\n",
    "        \"V\": 5,\n",
    "        \"X\": 10,\n",
    "        \"L\": 50,\n",
    "        \"C\": 100,\n",
    "        \"D\": 500,\n",
    "        \"M\": 1000\n",
    "    }\n",
    "    result = 0\n",
    "    for i in range(len(s)):\n",
    "        if i > 0 and roman_dict[s[i]] > roman_dict[s[i - 1]]:\n",
    "            result += roman_dict[s[i]] - 2 * roman_dict[s[i - 1]]\n",
    "        else:\n",
    "            result += roman_dict[s[i]]\n",
    "    return result\n",
    "\n",
    "roman_to_int(\"MCMXCIV\")\n",
    "\n"
   ]
  },
  {
   "cell_type": "code",
   "execution_count": 1,
   "metadata": {},
   "outputs": [
    {
     "data": {
      "text/plain": [
       "[6, 5, 8, 9, 7, 4, 3, 1, 0, 2]"
      ]
     },
     "execution_count": 1,
     "metadata": {},
     "output_type": "execute_result"
    }
   ],
   "source": [
    "# 写一个洗牌函数\n",
    "def shuffle(arr):\n",
    "    import random\n",
    "    for i in range(len(arr)):\n",
    "        j = random.randint(0, len(arr) - 1)\n",
    "        arr[i], arr[j] = arr[j], arr[i]\n",
    "    return arr\n",
    "\n",
    "# 写一段测试代码\n",
    "arr = [i for i in range(10)]\n",
    "shuffle(arr)\n"
   ]
  },
  {
   "cell_type": "code",
   "execution_count": null,
   "metadata": {},
   "outputs": [],
   "source": []
  },
  {
   "cell_type": "code",
   "execution_count": null,
   "metadata": {},
   "outputs": [],
   "source": []
  },
  {
   "cell_type": "code",
   "execution_count": null,
   "metadata": {},
   "outputs": [],
   "source": [
    "# 写一个快排\n",
    "def quick_sort(arr):\n",
    "    if len(arr) <= 1:\n",
    "        return arr\n",
    "    else:\n",
    "        pivot = arr[0]\n",
    "        left = []\n",
    "        right = []\n",
    "        for i in range(1, len(arr)):\n",
    "            if arr[i] < pivot:\n",
    "                left.append(arr[i])\n",
    "            else:\n",
    "                right.append(arr[i])\n",
    "        return quick_sort(left) + [pivot] + quick_sort(right)\n",
    "\n",
    "# 写一段测试代码\n",
    "arr = [i for i in range(10)]\n",
    "quick_sort(arr)\n",
    "\n",
    "# 写一个函数，输入一个整数，输出这个整数的二进制表示中1的个数\n",
    "def count_1(num):\n",
    "    count = 0\n",
    "    while num:\n",
    "        count += 1\n",
    "        num = num & (num - 1)\n",
    "    return count\n",
    "\n",
    "# 写一段测试代码\n",
    "count_1(7)\n",
    "\n"
   ]
  }
 ],
 "metadata": {
  "kernelspec": {
   "display_name": "chatgpt",
   "language": "python",
   "name": "python3"
  },
  "language_info": {
   "codemirror_mode": {
    "name": "ipython",
    "version": 3
   },
   "file_extension": ".py",
   "mimetype": "text/x-python",
   "name": "python",
   "nbconvert_exporter": "python",
   "pygments_lexer": "ipython3",
   "version": "3.10.9"
  },
  "orig_nbformat": 4,
  "vscode": {
   "interpreter": {
    "hash": "a3f3a7aee03d57ba3bf39c6821762f519bd3b626d900ab04cd2acd986fdaeaff"
   }
  }
 },
 "nbformat": 4,
 "nbformat_minor": 2
}
